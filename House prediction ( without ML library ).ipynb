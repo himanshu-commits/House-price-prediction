{
 "cells": [
  {
   "cell_type": "code",
   "execution_count": 119,
   "id": "significant-lottery",
   "metadata": {},
   "outputs": [],
   "source": [
    "from sklearn.datasets import load_boston\n",
    "import numpy as np\n",
    "import pandas as pd\n",
    "import matplotlib.pyplot as plt\n",
    "from sklearn.model_selection import train_test_split\n"
   ]
  },
  {
   "cell_type": "markdown",
   "id": "corporate-trading",
   "metadata": {},
   "source": [
    "## Loading the data"
   ]
  },
  {
   "cell_type": "code",
   "execution_count": 120,
   "id": "restricted-simple",
   "metadata": {},
   "outputs": [],
   "source": [
    "boston = load_boston()"
   ]
  },
  {
   "cell_type": "code",
   "execution_count": 121,
   "id": "charitable-necessity",
   "metadata": {},
   "outputs": [
    {
     "data": {
      "text/plain": [
       "(506, 14)"
      ]
     },
     "execution_count": 121,
     "metadata": {},
     "output_type": "execute_result"
    }
   ],
   "source": [
    "x=boston.data\n",
    "y=boston.target\n",
    "y.shape\n",
    "con=np.ones((506,1))\n",
    "x=np.hstack((con,x))\n",
    "x.shape"
   ]
  },
  {
   "cell_type": "markdown",
   "id": "diverse-vegetation",
   "metadata": {},
   "source": [
    "## Visualization of data"
   ]
  },
  {
   "cell_type": "code",
   "execution_count": 122,
   "id": "everyday-landing",
   "metadata": {},
   "outputs": [
    {
     "data": {
      "text/plain": [
       "<matplotlib.collections.PathCollection at 0x2151245a130>"
      ]
     },
     "execution_count": 122,
     "metadata": {},
     "output_type": "execute_result"
    },
    {
     "data": {
      "image/png": "[encoded data removed]",
      "text/plain": [
       "<Figure size 432x288 with 1 Axes>"
      ]
     },
     "metadata": {
      "needs_background": "light"
     },
     "output_type": "display_data"
    }
   ],
   "source": [
    "plt.scatter(x[:,9],y)"
   ]
  },
  {
   "cell_type": "markdown",
   "id": "orange-aluminum",
   "metadata": {},
   "source": [
    "## Splitting and feature scaling"
   ]
  },
  {
   "cell_type": "code",
   "execution_count": 131,
   "id": "smooth-domestic",
   "metadata": {},
   "outputs": [],
   "source": [
    "mean = np.mean(x)\n",
    "std = np.std(x)\n",
    "x = (x - mean)/std \n",
    "\n",
    "x_train,x_test,y_train,y_test=train_test_split(x,y,test_size = 0.3)\n"
   ]
  },
  {
   "cell_type": "code",
   "execution_count": 132,
   "id": "married-lesson",
   "metadata": {},
   "outputs": [
    {
     "name": "stdout",
     "output_type": "stream",
     "text": [
      "(354, 14)\n",
      "(152, 14)\n",
      "(354,)\n",
      "(152,)\n"
     ]
    }
   ],
   "source": [
    "print(x_train.shape)\n",
    "print(x_test.shape)\n",
    "print(y_train.shape)\n",
    "print(y_test.shape)\n"
   ]
  },
  {
   "cell_type": "markdown",
   "id": "express-combat",
   "metadata": {},
   "source": [
    "## Model"
   ]
  },
  {
   "cell_type": "code",
   "execution_count": 133,
   "id": "labeled-vegetation",
   "metadata": {},
   "outputs": [],
   "source": [
    "def model(x,y,learning_rate,iteration):\n",
    "    m=y.size\n",
    "    theta=np.zeros(14,)\n",
    "    cost_list = []\n",
    "    for i in range(iteration):\n",
    "        y_=np.dot(x,theta)\n",
    "        cost=(1/(2*m))*np.sum(np.square(y_ - y))\n",
    "        gradient = (1/m)*np.dot(x.T,y_- y)\n",
    "        theta=theta-learning_rate*gradient\n",
    "        cost_list.append(cost)\n",
    "        if(i%(iteration/10)==0):\n",
    "            print(\"cost\", cost)\n",
    "        \n",
    "    return theta,cost_list"
   ]
  },
  {
   "cell_type": "code",
   "execution_count": 164,
   "id": "italian-meaning",
   "metadata": {},
   "outputs": [],
   "source": [
    "learning_rate = 0.0001\n",
    "iteration = 100000"
   ]
  },
  {
   "cell_type": "code",
   "execution_count": 165,
   "id": "decreased-belle",
   "metadata": {},
   "outputs": [
    {
     "name": "stdout",
     "output_type": "stream",
     "text": [
      "cost 302.06714689265533\n",
      "cost 41.970898141061355\n",
      "cost 38.17220214223513\n",
      "cost 36.917271067514186\n",
      "cost 36.000301366192915\n",
      "cost 35.20524429303147\n",
      "cost 34.50119674299559\n",
      "cost 33.87568399904846\n",
      "cost 33.31910949979605\n",
      "cost 32.82317472139151\n"
     ]
    },
    {
     "data": {
      "text/plain": [
       "(14,)"
      ]
     },
     "execution_count": 165,
     "metadata": {},
     "output_type": "execute_result"
    }
   ],
   "source": [
    "theta,cost_list = model(x_train,y_train,learning_rate = learning_rate,iteration = iteration)\n",
    "theta.shape\n"
   ]
  },
  {
   "cell_type": "markdown",
   "id": "prime-killing",
   "metadata": {},
   "source": [
    "## Testing the model"
   ]
  },
  {
   "cell_type": "code",
   "execution_count": 166,
   "id": "correct-acrylic",
   "metadata": {},
   "outputs": [
    {
     "data": {
      "image/png": "[encoded data removed]",
      "text/plain": [
       "<Figure size 432x288 with 1 Axes>"
      ]
     },
     "metadata": {
      "needs_background": "light"
     },
     "output_type": "display_data"
    }
   ],
   "source": [
    "rng = np.arange(0,iteration)\n",
    "plt.plot(rng,cost_list)\n",
    "plt.show()\n"
   ]
  },
  {
   "cell_type": "code",
   "execution_count": 199,
   "id": "educational-drama",
   "metadata": {},
   "outputs": [],
   "source": [
    "m = x_test.size\n",
    "prediction = np.dot(x_test,theta)\n",
    "error= (1/m)*np.sum(np.absolute(y_test-prediction))"
   ]
  },
  {
   "cell_type": "code",
   "execution_count": 200,
   "id": "general-independence",
   "metadata": {},
   "outputs": [
    {
     "name": "stdout",
     "output_type": "stream",
     "text": [
      "Test error is : 0.4113067728827367\n"
     ]
    }
   ],
   "source": [
    "print(\"Test error is :\",error)"
   ]
  }
 ],
 "metadata": {
  "kernelspec": {
   "display_name": "Python 3",
   "language": "python",
   "name": "python3"
  },
  "language_info": {
   "codemirror_mode": {
    "name": "ipython",
    "version": 3
   },
   "file_extension": ".py",
   "mimetype": "text/x-python",
   "name": "python",
   "nbconvert_exporter": "python",
   "pygments_lexer": "ipython3",
   "version": "3.9.0"
  }
 },
 "nbformat": 4,
 "nbformat_minor": 5
}
